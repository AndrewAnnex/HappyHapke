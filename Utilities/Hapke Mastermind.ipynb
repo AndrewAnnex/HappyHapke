{
 "cells": [
  {
   "cell_type": "code",
   "execution_count": 1,
   "metadata": {},
   "outputs": [],
   "source": [
    "import numpy as np"
   ]
  },
  {
   "cell_type": "code",
   "execution_count": 2,
   "metadata": {},
   "outputs": [],
   "source": [
    "sizep = 225 #cols\n",
    "gs = 4\n",
    "pangl = 3\n",
    "total_spectra = gs * pangl #rows"
   ]
  },
  {
   "cell_type": "code",
   "execution_count": 3,
   "metadata": {},
   "outputs": [
    {
     "data": {
      "text/plain": [
       "((225,), (12, 225), (225,), (12, 225), (225,), (12, 225))"
      ]
     },
     "execution_count": 3,
     "metadata": {},
     "output_type": "execute_result"
    }
   ],
   "source": [
    "n = np.linspace(0.6, 0.5, sizep ) #(sizep,)\n",
    "favn = np.repeat(n[np.newaxis,:], total_spectra, axis=0) #This is n repeated totalspectra, sizep\n",
    "\n",
    "# Magic K\n",
    "k = np.linspace(0.01,0.05, sizep) #(sizep,)\n",
    "favk = np.repeat(k[np.newaxis,:], total_spectra, axis=0) #This is n repeated totalspectra, sizep\n",
    "\n",
    "wave = np.linspace(0.3,2.55, sizep) #(sizep,)\n",
    "fav_wave = np.repeat(wave[np.newaxis,:], total_spectra, axis=0) #This is n repeated totalspectra, sizep\n",
    "\n",
    "n.shape, favn.shape, k.shape, favk.shape, wave.shape, fav_wave.shape"
   ]
  },
  {
   "cell_type": "code",
   "execution_count": 4,
   "metadata": {},
   "outputs": [
    {
     "name": "stdout",
     "output_type": "stream",
     "text": [
      "(12, 1)\n",
      "[[0.01]\n",
      " [0.01]\n",
      " [0.01]\n",
      " [0.02]\n",
      " [0.02]\n",
      " [0.02]\n",
      " [0.03]\n",
      " [0.03]\n",
      " [0.03]\n",
      " [0.04]\n",
      " [0.04]\n",
      " [0.04]]\n",
      "(12, 1)\n",
      "[[0.01]\n",
      " [0.01]\n",
      " [0.01]\n",
      " [0.02]\n",
      " [0.02]\n",
      " [0.02]\n",
      " [0.03]\n",
      " [0.03]\n",
      " [0.03]\n",
      " [0.04]\n",
      " [0.04]\n",
      " [0.04]]\n"
     ]
    }
   ],
   "source": [
    "s1,s2,s3,s4 = 0.01,0.02,0.03,0.04\n",
    "olds = np.hstack((np.repeat(s1, pangl, axis=0), np.repeat(s2, pangl, axis=0), \n",
    "           np.repeat(s3, pangl, axis=0), np.repeat(s4, pangl, axis=0)))[:, np.newaxis]\n",
    "print(olds.shape)\n",
    "print(olds)\n",
    "s = np.hstack((s1,s2,s3,s4))\n",
    "s = np.repeat(s, pangl, axis=0)[:,np.newaxis]\n",
    "print(s.shape)\n",
    "print(s)"
   ]
  },
  {
   "cell_type": "code",
   "execution_count": 5,
   "metadata": {},
   "outputs": [
    {
     "data": {
      "text/plain": [
       "(12, 1)"
      ]
     },
     "execution_count": 5,
     "metadata": {},
     "output_type": "execute_result"
    }
   ],
   "source": [
    "d1,d2,d3,d4 = 38,63,106,150\n",
    "d = np.hstack((np.repeat(d1, pangl, axis=0), np.repeat(d2, pangl, axis=0), \n",
    "           np.repeat(d3, pangl, axis=0), np.repeat(d4, pangl, axis=0)))[:, np.newaxis]\n",
    "d.shape "
   ]
  },
  {
   "cell_type": "code",
   "execution_count": 6,
   "metadata": {},
   "outputs": [
    {
     "data": {
      "text/plain": [
       "((900,), (900,))"
      ]
     },
     "execution_count": 6,
     "metadata": {},
     "output_type": "execute_result"
    }
   ],
   "source": [
    "b1,b2,b3,b4 = 0.3, 0.4, 0.5, 0.6\n",
    "b = np.hstack((np.repeat(b1,sizep,axis=0),np.repeat(b3,sizep,axis=0),\n",
    "               np.repeat(b2,sizep,axis=0),np.repeat(b4,sizep,axis=0)))\n",
    "c = -b\n",
    "b.shape, c.shape"
   ]
  },
  {
   "cell_type": "code",
   "execution_count": 14,
   "metadata": {},
   "outputs": [
    {
     "data": {
      "text/plain": [
       "array([[0.3, 0.3, 0.3, ..., 0.3, 0.3, 0.3],\n",
       "       [0.3, 0.3, 0.3, ..., 0.3, 0.3, 0.3],\n",
       "       [0.3, 0.3, 0.3, ..., 0.3, 0.3, 0.3],\n",
       "       ...,\n",
       "       [0.6, 0.6, 0.6, ..., 0.6, 0.6, 0.6],\n",
       "       [0.6, 0.6, 0.6, ..., 0.6, 0.6, 0.6],\n",
       "       [0.6, 0.6, 0.6, ..., 0.6, 0.6, 0.6]])"
      ]
     },
     "execution_count": 14,
     "metadata": {},
     "output_type": "execute_result"
    }
   ],
   "source": [
    "b_ustk = np.split(b, gs)\n",
    "c_ustk = np.split(c, gs)\n",
    "blst = []\n",
    "clst = []\n",
    "for i in range(gs):\n",
    "    blst.append(np.repeat(b_ustk[i][np.newaxis, :], pangl, axis=0))\n",
    "    clst.append(np.repeat(c_ustk[i][np.newaxis, :], pangl, axis=0))\n",
    "allb = np.vstack(blst) #nfiles, sizep\n",
    "allc = np.vstack(clst) #nfiles, sizep\n",
    "allb.shape, allc.shape\n",
    "\n",
    "##Scale and offset"
   ]
  },
  {
   "cell_type": "markdown",
   "metadata": {},
   "source": []
  },
  {
   "cell_type": "markdown",
   "metadata": {},
   "source": [
    "## INIT_REFRACTION"
   ]
  },
  {
   "cell_type": "code",
   "execution_count": 14,
   "metadata": {},
   "outputs": [],
   "source": [
    "def init_refraction(n):\n",
    "    n = np.asarray(n)\n",
    "    numer = (n - 1) ** 2\n",
    "    denom = (n + 1) ** 2\n",
    "    # approximate surface reflection coefficient S_E\n",
    "    Se = numer / denom + 0.05\n",
    "    # approximate internal scattering coefficient S_I\n",
    "    Si = 1.014 - 4 / (n * denom)\n",
    "    return Se, Si"
   ]
  },
  {
   "cell_type": "code",
   "execution_count": 15,
   "metadata": {},
   "outputs": [],
   "source": [
    "Se, Si = init_refraction(favn) ## This works\n",
    "# Se is 12,225 == same down different across because that is how n is\n",
    "# ditto on Si"
   ]
  },
  {
   "cell_type": "markdown",
   "metadata": {},
   "source": [
    "## SCATTERING EFFICIENCY"
   ]
  },
  {
   "cell_type": "code",
   "execution_count": 16,
   "metadata": {},
   "outputs": [
    {
     "data": {
      "text/plain": [
       "(12, 225)"
      ]
     },
     "execution_count": 16,
     "metadata": {},
     "output_type": "execute_result"
    }
   ],
   "source": [
    "Alpha = (4 * np.pi * favk) / fav_wave\n",
    "Alpha.shape"
   ]
  },
  {
   "cell_type": "code",
   "execution_count": 17,
   "metadata": {
    "scrolled": true
   },
   "outputs": [
    {
     "data": {
      "text/plain": [
       "array([[0.01],\n",
       "       [0.01],\n",
       "       [0.01],\n",
       "       [0.02],\n",
       "       [0.02],\n",
       "       [0.02],\n",
       "       [0.03],\n",
       "       [0.03],\n",
       "       [0.03],\n",
       "       [0.04],\n",
       "       [0.04],\n",
       "       [0.04]])"
      ]
     },
     "execution_count": 17,
     "metadata": {},
     "output_type": "execute_result"
    }
   ],
   "source": [
    "s"
   ]
  },
  {
   "cell_type": "code",
   "execution_count": 18,
   "metadata": {},
   "outputs": [
    {
     "data": {
      "text/plain": [
       "array([[0.42887902, 0.42254608, 0.4166106 , ..., 0.25658204, 0.25649037,\n",
       "        0.25639942],\n",
       "       [0.42887902, 0.42254608, 0.4166106 , ..., 0.25658204, 0.25649037,\n",
       "        0.25639942],\n",
       "       [0.42887902, 0.42254608, 0.4166106 , ..., 0.25658204, 0.25649037,\n",
       "        0.25639942],\n",
       "       ...,\n",
       "       [0.45887902, 0.45254608, 0.4466106 , ..., 0.28658204, 0.28649037,\n",
       "        0.28639942],\n",
       "       [0.45887902, 0.45254608, 0.4466106 , ..., 0.28658204, 0.28649037,\n",
       "        0.28639942],\n",
       "       [0.45887902, 0.45254608, 0.4466106 , ..., 0.28658204, 0.28649037,\n",
       "        0.28639942]])"
      ]
     },
     "execution_count": 18,
     "metadata": {},
     "output_type": "execute_result"
    }
   ],
   "source": [
    "Alpha_s = Alpha + s\n",
    "Alpha_s"
   ]
  },
  {
   "cell_type": "code",
   "execution_count": 19,
   "metadata": {},
   "outputs": [],
   "source": [
    "Alpha.shape, Alpha_s.shape\n",
    "tmp = np.sqrt(Alpha/(Alpha_s))"
   ]
  },
  {
   "cell_type": "code",
   "execution_count": 20,
   "metadata": {},
   "outputs": [],
   "source": [
    "ri = (1-tmp) / (1+tmp) "
   ]
  },
  {
   "cell_type": "code",
   "execution_count": 21,
   "metadata": {},
   "outputs": [],
   "source": [
    "tmp = np.exp(-d * np.sqrt(Alpha*Alpha_s))"
   ]
  },
  {
   "cell_type": "code",
   "execution_count": 22,
   "metadata": {},
   "outputs": [],
   "source": [
    "#Hapke1993 equation 11.15a\n",
    "THETA = (ri + tmp) / (1 + ri*tmp)"
   ]
  },
  {
   "cell_type": "code",
   "execution_count": 23,
   "metadata": {},
   "outputs": [],
   "source": [
    "#Hapke1993 equation 11.14 for w aka single scattering albedo\n",
    "scat_eff = Se + (1-Se)*(((1-Si)*THETA)/(1 - Si*THETA))"
   ]
  },
  {
   "cell_type": "code",
   "execution_count": 24,
   "metadata": {},
   "outputs": [
    {
     "data": {
      "text/plain": [
       "((12, 225),\n",
       " array([[0.12593267, 0.12632402, 0.12670908, ..., 0.18951563, 0.18982301,\n",
       "         0.19013085],\n",
       "        [0.12593267, 0.12632402, 0.12670908, ..., 0.18951563, 0.18982301,\n",
       "         0.19013085],\n",
       "        [0.12593267, 0.12632402, 0.12670908, ..., 0.18951563, 0.18982301,\n",
       "         0.19013085],\n",
       "        ...,\n",
       "        [0.1630722 , 0.16401489, 0.16493305, ..., 0.26225747, 0.26265481,\n",
       "         0.26305254],\n",
       "        [0.1630722 , 0.16401489, 0.16493305, ..., 0.26225747, 0.26265481,\n",
       "         0.26305254],\n",
       "        [0.1630722 , 0.16401489, 0.16493305, ..., 0.26225747, 0.26265481,\n",
       "         0.26305254]]))"
      ]
     },
     "execution_count": 24,
     "metadata": {},
     "output_type": "execute_result"
    }
   ],
   "source": [
    "scat_eff.shape, scat_eff"
   ]
  },
  {
   "cell_type": "markdown",
   "metadata": {},
   "source": [
    "## INIT ANGLES"
   ]
  },
  {
   "cell_type": "code",
   "execution_count": 25,
   "metadata": {},
   "outputs": [
    {
     "data": {
      "text/plain": [
       "(array([[0.34906585],\n",
       "        [0.6981317 ],\n",
       "        [1.04719755],\n",
       "        [0.34906585],\n",
       "        [0.6981317 ],\n",
       "        [1.04719755],\n",
       "        [0.34906585],\n",
       "        [0.6981317 ],\n",
       "        [1.04719755],\n",
       "        [0.34906585],\n",
       "        [0.6981317 ],\n",
       "        [1.04719755]]), array([[0.],\n",
       "        [0.],\n",
       "        [0.],\n",
       "        [0.],\n",
       "        [0.],\n",
       "        [0.],\n",
       "        [0.],\n",
       "        [0.],\n",
       "        [0.],\n",
       "        [0.],\n",
       "        [0.],\n",
       "        [0.]]), (12, 1), (12, 1))"
      ]
     },
     "execution_count": 25,
     "metadata": {},
     "output_type": "execute_result"
    }
   ],
   "source": [
    "ti1 = np.array([20,40,60])\n",
    "te1 = np.array([0,0,0])\n",
    "thetai = np.deg2rad(np.repeat(ti1[np.newaxis, :], gs, axis=0).flatten()[:, np.newaxis])\n",
    "thetae = np.deg2rad(np.repeat(te1[np.newaxis, :], gs, axis=0).flatten()[:,np.newaxis])\n",
    "thetai, thetae, thetai.shape, thetae.shape"
   ]
  },
  {
   "cell_type": "code",
   "execution_count": 26,
   "metadata": {},
   "outputs": [
    {
     "data": {
      "text/plain": [
       "((12, 1), (12, 1), (12, 1))"
      ]
     },
     "execution_count": 26,
     "metadata": {},
     "output_type": "execute_result"
    }
   ],
   "source": [
    "thetai = np.asarray(thetai)\n",
    "thetae = np.asarray(thetae)\n",
    "cosg = np.cos(np.abs(thetae - thetai))\n",
    "u0 = np.cos(thetai)\n",
    "u = np.cos(thetae)\n",
    "cosg.shape, u0.shape, u.shape"
   ]
  },
  {
   "cell_type": "code",
   "execution_count": 27,
   "metadata": {},
   "outputs": [
    {
     "data": {
      "text/plain": [
       "array([[0.93969262],\n",
       "       [0.76604444],\n",
       "       [0.5       ],\n",
       "       [0.93969262],\n",
       "       [0.76604444],\n",
       "       [0.5       ],\n",
       "       [0.93969262],\n",
       "       [0.76604444],\n",
       "       [0.5       ],\n",
       "       [0.93969262],\n",
       "       [0.76604444],\n",
       "       [0.5       ]])"
      ]
     },
     "execution_count": 27,
     "metadata": {},
     "output_type": "execute_result"
    }
   ],
   "source": [
    "cosg"
   ]
  },
  {
   "cell_type": "code",
   "execution_count": 28,
   "metadata": {},
   "outputs": [
    {
     "data": {
      "text/plain": [
       "array([[0.93969262],\n",
       "       [0.76604444],\n",
       "       [0.5       ],\n",
       "       [0.93969262],\n",
       "       [0.76604444],\n",
       "       [0.5       ],\n",
       "       [0.93969262],\n",
       "       [0.76604444],\n",
       "       [0.5       ],\n",
       "       [0.93969262],\n",
       "       [0.76604444],\n",
       "       [0.5       ]])"
      ]
     },
     "execution_count": 28,
     "metadata": {},
     "output_type": "execute_result"
    }
   ],
   "source": [
    "u0"
   ]
  },
  {
   "cell_type": "code",
   "execution_count": 29,
   "metadata": {},
   "outputs": [
    {
     "data": {
      "text/plain": [
       "array([[1.],\n",
       "       [1.],\n",
       "       [1.],\n",
       "       [1.],\n",
       "       [1.],\n",
       "       [1.],\n",
       "       [1.],\n",
       "       [1.],\n",
       "       [1.],\n",
       "       [1.],\n",
       "       [1.],\n",
       "       [1.]])"
      ]
     },
     "execution_count": 29,
     "metadata": {},
     "output_type": "execute_result"
    }
   ],
   "source": [
    "u"
   ]
  },
  {
   "cell_type": "markdown",
   "metadata": {},
   "source": [
    "## RADIANCE COEFF"
   ]
  },
  {
   "cell_type": "code",
   "execution_count": 30,
   "metadata": {
    "scrolled": true
   },
   "outputs": [
    {
     "data": {
      "text/plain": [
       "((12, 225), array([[0.3, 0.3, 0.3, ..., 0.3, 0.3, 0.3],\n",
       "        [0.3, 0.3, 0.3, ..., 0.3, 0.3, 0.3],\n",
       "        [0.3, 0.3, 0.3, ..., 0.3, 0.3, 0.3],\n",
       "        ...,\n",
       "        [0.6, 0.6, 0.6, ..., 0.6, 0.6, 0.6],\n",
       "        [0.6, 0.6, 0.6, ..., 0.6, 0.6, 0.6],\n",
       "        [0.6, 0.6, 0.6, ..., 0.6, 0.6, 0.6]]))"
      ]
     },
     "execution_count": 30,
     "metadata": {},
     "output_type": "execute_result"
    }
   ],
   "source": [
    "b_ustk = np.split(b, gs)\n",
    "blst = []\n",
    "for i in range(gs):\n",
    "    blst.append(np.repeat(b_ustk[i][np.newaxis, :], pangl, axis=0))\n",
    "allb = np.vstack(blst)\n",
    "allb.shape, allb"
   ]
  },
  {
   "cell_type": "code",
   "execution_count": 31,
   "metadata": {},
   "outputs": [
    {
     "data": {
      "text/plain": [
       "((12, 225), array([[-0.3, -0.3, -0.3, ..., -0.3, -0.3, -0.3],\n",
       "        [-0.3, -0.3, -0.3, ..., -0.3, -0.3, -0.3],\n",
       "        [-0.3, -0.3, -0.3, ..., -0.3, -0.3, -0.3],\n",
       "        ...,\n",
       "        [-0.6, -0.6, -0.6, ..., -0.6, -0.6, -0.6],\n",
       "        [-0.6, -0.6, -0.6, ..., -0.6, -0.6, -0.6],\n",
       "        [-0.6, -0.6, -0.6, ..., -0.6, -0.6, -0.6]]))"
      ]
     },
     "execution_count": 31,
     "metadata": {},
     "output_type": "execute_result"
    }
   ],
   "source": [
    "c_ustk = np.split(c, gs)\n",
    "clst = []\n",
    "for i in range(gs):\n",
    "    clst.append(np.repeat(c_ustk[i][np.newaxis, :], pangl, axis=0))\n",
    "allc = np.vstack(clst)\n",
    "allc.shape, allc"
   ]
  },
  {
   "cell_type": "code",
   "execution_count": 32,
   "metadata": {},
   "outputs": [
    {
     "data": {
      "text/plain": [
       "((12, 225),\n",
       " array([[1.03454779, 1.03454779, 1.03454779, ..., 1.03454779, 1.03454779,\n",
       "         1.03454779],\n",
       "        [1.11574249, 1.11574249, 1.11574249, ..., 1.11574249, 1.11574249,\n",
       "         1.11574249],\n",
       "        [1.1875    , 1.1875    , 1.1875    , ..., 1.1875    , 1.1875    ,\n",
       "         1.1875    ],\n",
       "        ...,\n",
       "        [1.06909557, 1.06909557, 1.06909557, ..., 1.06909557, 1.06909557,\n",
       "         1.06909557],\n",
       "        [1.23148499, 1.23148499, 1.23148499, ..., 1.23148499, 1.23148499,\n",
       "         1.23148499],\n",
       "        [1.375     , 1.375     , 1.375     , ..., 1.375     , 1.375     ,\n",
       "         1.375     ]]))"
      ]
     },
     "execution_count": 32,
     "metadata": {},
     "output_type": "execute_result"
    }
   ],
   "source": [
    "#LegendrePhaseMixin\n",
    "Pg1 = 1 + allb * cosg + allc * (1.5*(cosg**2)-0.5)\n",
    "Pg1.shape, Pg1"
   ]
  },
  {
   "cell_type": "code",
   "execution_count": 33,
   "metadata": {},
   "outputs": [
    {
     "data": {
      "text/plain": [
       "((12, 225),\n",
       " array([[1.11256892, 1.11256892, 1.11256892, ..., 1.11256892, 1.11256892,\n",
       "         1.11256892],\n",
       "        [0.94300402, 0.94300402, 0.94300402, ..., 0.94300402, 0.94300402,\n",
       "         0.94300402],\n",
       "        [0.81453352, 0.81453352, 0.81453352, ..., 0.81453352, 0.81453352,\n",
       "         0.81453352],\n",
       "        ...,\n",
       "        [1.27322272, 1.27322272, 1.27322272, ..., 1.27322272, 1.27322272,\n",
       "         1.27322272],\n",
       "        [0.58624048, 0.58624048, 0.58624048, ..., 0.58624048, 0.58624048,\n",
       "         0.58624048],\n",
       "        [0.37978112, 0.37978112, 0.37978112, ..., 0.37978112, 0.37978112,\n",
       "         0.37978112]]))"
      ]
     },
     "execution_count": 33,
     "metadata": {},
     "output_type": "execute_result"
    }
   ],
   "source": [
    "# double Heyney-Greenstein phase function P(g)\n",
    "x0 = allb * allb + 1\n",
    "x1 = 2 * allb * cosg\n",
    "x3 = (x0 - x1) ** 1.5\n",
    "x4 = (x0 + x1) ** 1.5\n",
    "Pg2 = (x0 - 2) * (x3*(allc-1) - x4*(allc+1)) / (2 * x3 * x4)\n",
    "Pg2.shape, Pg2"
   ]
  },
  {
   "cell_type": "code",
   "execution_count": 34,
   "metadata": {},
   "outputs": [
    {
     "data": {
      "text/plain": [
       "((12, 225),\n",
       " array([[0.03363677, 0.0337486 , 0.03385869, ..., 0.05248254, 0.05257711,\n",
       "         0.05267186],\n",
       "        [0.03363677, 0.0337486 , 0.03385869, ..., 0.05248254, 0.05257711,\n",
       "         0.05267186],\n",
       "        [0.03363677, 0.0337486 , 0.03385869, ..., 0.05248254, 0.05257711,\n",
       "         0.05267186],\n",
       "        ...,\n",
       "        [0.04447501, 0.0447562 , 0.04503037, ..., 0.07589388, 0.07602779,\n",
       "         0.07616189],\n",
       "        [0.04447501, 0.0447562 , 0.04503037, ..., 0.07589388, 0.07602779,\n",
       "         0.07616189],\n",
       "        [0.04447501, 0.0447562 , 0.04503037, ..., 0.07589388, 0.07602779,\n",
       "         0.07616189]]))"
      ]
     },
     "execution_count": 34,
     "metadata": {},
     "output_type": "execute_result"
    }
   ],
   "source": [
    "def r0(scat_eff):\n",
    "    gamma = np.sqrt(1 - scat_eff)\n",
    "    return (1-gamma) / (1+gamma)\n",
    "testr0 = r0(scat_eff)\n",
    "testr0.shape, testr0"
   ]
  },
  {
   "cell_type": "code",
   "execution_count": 35,
   "metadata": {},
   "outputs": [
    {
     "data": {
      "text/plain": [
       "((12, 225),\n",
       " array([[1.04714899, 1.04730748, 1.0474635 , ..., 1.07402193, 1.07415762,\n",
       "         1.07429357],\n",
       "        [1.04714899, 1.04730748, 1.0474635 , ..., 1.07402193, 1.07415762,\n",
       "         1.07429357],\n",
       "        [1.04714899, 1.04730748, 1.0474635 , ..., 1.07402193, 1.07415762,\n",
       "         1.07429357],\n",
       "        ...,\n",
       "        [1.06256335, 1.06296472, 1.06335614, ..., 1.10786669, 1.10806176,\n",
       "         1.10825713],\n",
       "        [1.06256335, 1.06296472, 1.06335614, ..., 1.10786669, 1.10806176,\n",
       "         1.10825713],\n",
       "        [1.06256335, 1.06296472, 1.06335614, ..., 1.10786669, 1.10806176,\n",
       "         1.10825713]]))"
      ]
     },
     "execution_count": 35,
     "metadata": {},
     "output_type": "execute_result"
    }
   ],
   "source": [
    "def Hu(scat_eff, u):\n",
    "    tr0 = r0(scat_eff)\n",
    "    tmp_gamma = np.sqrt(1 - scat_eff)\n",
    "    return 1/(1-(1-tmp_gamma)*u*(tr0 + (1 - 0.5*tr0 - u*tr0)*np.log((1 + u)/u)))\n",
    "\n",
    "testHu = Hu(scat_eff, u)\n",
    "testHu.shape, testHu"
   ]
  },
  {
   "cell_type": "code",
   "execution_count": 36,
   "metadata": {},
   "outputs": [
    {
     "data": {
      "text/plain": [
       "((12, 225),\n",
       " array([[1.04714899, 1.04730748, 1.0474635 , ..., 1.07402193, 1.07415762,\n",
       "         1.07429357],\n",
       "        [1.04714899, 1.04730748, 1.0474635 , ..., 1.07402193, 1.07415762,\n",
       "         1.07429357],\n",
       "        [1.04714899, 1.04730748, 1.0474635 , ..., 1.07402193, 1.07415762,\n",
       "         1.07429357],\n",
       "        ...,\n",
       "        [1.06256335, 1.06296472, 1.06335614, ..., 1.10786669, 1.10806176,\n",
       "         1.10825713],\n",
       "        [1.06256335, 1.06296472, 1.06335614, ..., 1.10786669, 1.10806176,\n",
       "         1.10825713],\n",
       "        [1.06256335, 1.06296472, 1.06335614, ..., 1.10786669, 1.10806176,\n",
       "         1.10825713]]),\n",
       " (12, 225),\n",
       " array([[1.04628208, 1.04643752, 1.04659053, ..., 1.07262287, 1.0727558 ,\n",
       "         1.07288898],\n",
       "        [1.04334846, 1.04349359, 1.04363645, ..., 1.06789897, 1.06802264,\n",
       "         1.06814655],\n",
       "        [1.03696067, 1.03708357, 1.03720453, ..., 1.05766914, 1.05777305,\n",
       "         1.05787715],\n",
       "        ...,\n",
       "        [1.06139459, 1.06178797, 1.0621716 , ..., 1.10575787, 1.10594871,\n",
       "         1.10613986],\n",
       "        [1.05744454, 1.05781108, 1.05816851, ..., 1.09865748, 1.09883423,\n",
       "         1.09901126],\n",
       "        [1.04887054, 1.04917952, 1.04948079, ..., 1.08338666, 1.08353372,\n",
       "         1.083681  ]]))"
      ]
     },
     "execution_count": 36,
     "metadata": {},
     "output_type": "execute_result"
    }
   ],
   "source": [
    "def Hu_Hu0(scat_eff, u, u0):\n",
    "    tHu = Hu(scat_eff, u=u)\n",
    "    tHu0 = Hu(scat_eff, u=u0)\n",
    "    return tHu, tHu0\n",
    "\n",
    "tHu, tHu0 = Hu_Hu0(scat_eff, u, u0)\n",
    "tHu.shape, tHu, tHu0.shape, tHu0"
   ]
  },
  {
   "cell_type": "markdown",
   "metadata": {},
   "source": [
    "## Lambertian Mixing"
   ]
  },
  {
   "cell_type": "code",
   "execution_count": 37,
   "metadata": {},
   "outputs": [],
   "source": [
    "tHu, tHu0 = Hu_Hu0(scat_eff, u, u0)"
   ]
  },
  {
   "cell_type": "code",
   "execution_count": 38,
   "metadata": {},
   "outputs": [],
   "source": [
    "#Lambertian Mixing\n",
    "Bg1 = 1\n",
    "tmp = Pg1 * Bg1 + tHu*tHu0 - 1"
   ]
  },
  {
   "cell_type": "code",
   "execution_count": 194,
   "metadata": {},
   "outputs": [],
   "source": [
    "#Hapke1993 equation 10.4\n",
    "rc11 = tmp * (scat_eff/4.) / (u + u0)"
   ]
  },
  {
   "cell_type": "code",
   "execution_count": 195,
   "metadata": {},
   "outputs": [
    {
     "data": {
      "text/plain": [
       "((12, 225),\n",
       " array([[0.01834365, 0.01840601, 0.0184674 , ..., 0.0289831 , 0.02903716,\n",
       "         0.02909133],\n",
       "        [0.02154   , 0.02161261, 0.0216841 , ..., 0.03387505, 0.03393746,\n",
       "         0.03399998],\n",
       "        [0.02672611, 0.02681533, 0.02690316, ..., 0.04180272, 0.04187859,\n",
       "         0.04195461],\n",
       "        ...,\n",
       "        [0.02515608, 0.02531934, 0.02547859, ..., 0.04374336, 0.0438241 ,\n",
       "         0.04390497],\n",
       "        [0.03128134, 0.03148108, 0.03167585, ..., 0.05378114, 0.05387788,\n",
       "         0.05397476],\n",
       "        [0.04048244, 0.04073695, 0.04098509, ..., 0.06885343, 0.06897413,\n",
       "         0.06909501]]))"
      ]
     },
     "execution_count": 195,
     "metadata": {},
     "output_type": "execute_result"
    }
   ],
   "source": [
    "rc11.shape, rc11"
   ]
  },
  {
   "cell_type": "code",
   "execution_count": 213,
   "metadata": {},
   "outputs": [],
   "source": [
    "#Lambertian Mixing with HG thingy\n",
    "Bg1 = 1\n",
    "tmp = Pg2 * Bg1 + tHu*tHu0 - 1"
   ]
  },
  {
   "cell_type": "code",
   "execution_count": 214,
   "metadata": {},
   "outputs": [],
   "source": [
    "#Hapke1993 equation 10.4\n",
    "rc12 = tmp * (scat_eff/4.) / (u + u0)"
   ]
  },
  {
   "cell_type": "code",
   "execution_count": 215,
   "metadata": {},
   "outputs": [
    {
     "data": {
      "text/plain": [
       "((12, 225),\n",
       " array([[0.01958072, 0.01964682, 0.01971188, ..., 0.03081595, 0.03087283,\n",
       "         0.03092983],\n",
       "        [0.01842784, 0.01849066, 0.01855251, ..., 0.02915954, 0.02921413,\n",
       "         0.02926883],\n",
       "        [0.01885896, 0.01892359, 0.01898723, ..., 0.02992587, 0.02998228,\n",
       "         0.0300388 ],\n",
       "        ...,\n",
       "        [0.02939452, 0.02958191, 0.02976465, ..., 0.05048651, 0.05057712,\n",
       "         0.05066787],\n",
       "        [0.01632835, 0.01644122, 0.01655139, ..., 0.02965224, 0.02971204,\n",
       "         0.02977196],\n",
       "        [0.01336489, 0.01346215, 0.01355712, ..., 0.02514788, 0.02520193,\n",
       "         0.0252561 ]]))"
      ]
     },
     "execution_count": 215,
     "metadata": {},
     "output_type": "execute_result"
    }
   ],
   "source": [
    "rc12.shape, rc12"
   ]
  },
  {
   "cell_type": "markdown",
   "metadata": {},
   "source": [
    "## Isotropic Mixing"
   ]
  },
  {
   "cell_type": "code",
   "execution_count": 211,
   "metadata": {},
   "outputs": [
    {
     "name": "stdout",
     "output_type": "stream",
     "text": [
      "(225,) [0.01       0.01441964 0.01883929 0.02325893 0.02767857 0.03209821\n",
      " 0.03651786 0.0409375  0.04535714 0.04977679 0.05419643 0.05861607\n",
      " 0.06303571 0.06745536 0.071875   0.07629464 0.08071429 0.08513393\n",
      " 0.08955357 0.09397321 0.09839286 0.1028125  0.10723214 0.11165179\n",
      " 0.11607143 0.12049107 0.12491071 0.12933036 0.13375    0.13816964\n",
      " 0.14258929 0.14700893 0.15142857 0.15584821 0.16026786 0.1646875\n",
      " 0.16910714 0.17352679 0.17794643 0.18236607 0.18678571 0.19120536\n",
      " 0.195625   0.20004464 0.20446429 0.20888393 0.21330357 0.21772321\n",
      " 0.22214286 0.2265625  0.23098214 0.23540179 0.23982143 0.24424107\n",
      " 0.24866071 0.25308036 0.2575     0.26191964 0.26633929 0.27075893\n",
      " 0.27517857 0.27959821 0.28401786 0.2884375  0.29285714 0.29727679\n",
      " 0.30169643 0.30611607 0.31053571 0.31495536 0.319375   0.32379464\n",
      " 0.32821429 0.33263393 0.33705357 0.34147321 0.34589286 0.3503125\n",
      " 0.35473214 0.35915179 0.36357143 0.36799107 0.37241071 0.37683036\n",
      " 0.38125    0.38566964 0.39008929 0.39450893 0.39892857 0.40334821\n",
      " 0.40776786 0.4121875  0.41660714 0.42102679 0.42544643 0.42986607\n",
      " 0.43428571 0.43870536 0.443125   0.44754464 0.45196429 0.45638393\n",
      " 0.46080357 0.46522321 0.46964286 0.4740625  0.47848214 0.48290179\n",
      " 0.48732143 0.49174107 0.49616071 0.50058036 0.505      0.50941964\n",
      " 0.51383929 0.51825893 0.52267857 0.52709821 0.53151786 0.5359375\n",
      " 0.54035714 0.54477679 0.54919643 0.55361607 0.55803571 0.56245536\n",
      " 0.566875   0.57129464 0.57571429 0.58013393 0.58455357 0.58897321\n",
      " 0.59339286 0.5978125  0.60223214 0.60665179 0.61107143 0.61549107\n",
      " 0.61991071 0.62433036 0.62875    0.63316964 0.63758929 0.64200893\n",
      " 0.64642857 0.65084821 0.65526786 0.6596875  0.66410714 0.66852679\n",
      " 0.67294643 0.67736607 0.68178571 0.68620536 0.690625   0.69504464\n",
      " 0.69946429 0.70388393 0.70830357 0.71272321 0.71714286 0.7215625\n",
      " 0.72598214 0.73040179 0.73482143 0.73924107 0.74366071 0.74808036\n",
      " 0.7525     0.75691964 0.76133929 0.76575893 0.77017857 0.77459821\n",
      " 0.77901786 0.7834375  0.78785714 0.79227679 0.79669643 0.80111607\n",
      " 0.80553571 0.80995536 0.814375   0.81879464 0.82321429 0.82763393\n",
      " 0.83205357 0.83647321 0.84089286 0.8453125  0.84973214 0.85415179\n",
      " 0.85857143 0.86299107 0.86741071 0.87183036 0.87625    0.88066964\n",
      " 0.88508929 0.88950893 0.89392857 0.89834821 0.90276786 0.9071875\n",
      " 0.91160714 0.91602679 0.92044643 0.92486607 0.92928571 0.93370536\n",
      " 0.938125   0.94254464 0.94696429 0.95138393 0.95580357 0.96022321\n",
      " 0.96464286 0.9690625  0.97348214 0.97790179 0.98232143 0.98674107\n",
      " 0.99116071 0.99558036 1.        ]\n",
      "------------------------------------------------------------------------------------------------------------------------\n",
      "(12, 225) [[0.01006923 0.01456407 0.01908665 ... 5.96397071 6.49776227 8.02056071]\n",
      " [0.01006714 0.01455971 0.01907916 ... 5.44104687 5.88895659 7.13882864]\n",
      " [0.01006256 0.01455013 0.01906272 ... 4.57356757 4.89723698 5.77078016]\n",
      " ...\n",
      " [0.01006923 0.01456407 0.01908665 ... 5.96397071 6.49776227 8.02056071]\n",
      " [0.01006714 0.01455971 0.01907916 ... 5.44104687 5.88895659 7.13882864]\n",
      " [0.01006256 0.01455013 0.01906272 ... 4.57356757 4.89723698 5.77078016]]\n"
     ]
    }
   ],
   "source": [
    "isow = np.linspace(0.01,1, sizep)\n",
    "print(isow.shape, isow)\n",
    "print(\"-\"*120)\n",
    "isoHu, isoHu0 = Hu_Hu0(isow, u, u0)\n",
    "rc_denom = isow * isoHu0 * isoHu\n",
    "print(rc_denom.shape, rc_denom)"
   ]
  },
  {
   "cell_type": "code",
   "execution_count": 212,
   "metadata": {},
   "outputs": [
    {
     "name": "stdout",
     "output_type": "stream",
     "text": [
      "(12, 225) [[15.00591389 10.40991811  7.96974094 ...  0.03999287  0.03677575\n",
      "   0.02984888]\n",
      " [16.04774146 11.13337365  8.52416969 ...  0.04665402  0.04318477\n",
      "   0.03568942]\n",
      " [16.92067137 11.74098493  8.99092906 ...  0.05817983  0.05443297\n",
      "   0.04627691]\n",
      " ...\n",
      " [20.56919662 14.3131261  10.99018191 ...  0.06029559  0.05544408\n",
      "   0.04499995]\n",
      " [23.29752342 16.21146233 12.44770251 ...  0.07400721  0.06850085\n",
      "   0.05660893]\n",
      " [25.62386866 17.83213303 13.69361031 ...  0.09576372  0.08959076\n",
      "   0.07616192]]\n"
     ]
    }
   ],
   "source": [
    "ff = 0.03\n",
    "tmp = -1.209 * ff**(2./3)\n",
    "PoreK = np.log1p(tmp) / tmp\n",
    "\n",
    "# perform the change of variables to account for porosity outside of H(u)\n",
    "# and H(u0) equations for simplicity, i.e. H(u) will become H(u/PoreK)\n",
    "# see Hapke 2012b (the book) for details.\n",
    "uK = u / PoreK\n",
    "u0K = u0 / PoreK\n",
    "tHu, tHu0 = Hu_Hu0(scat_eff, uK, u0K)\n",
    "\n",
    "tmp = Pg1 * 1 + tHu*tHu0 - 1\n",
    "numer = PoreK * tmp * scat_eff\n",
    "rc21 = numer / rc_denom\n",
    "print(rc21.shape, rc21)"
   ]
  },
  {
   "cell_type": "code",
   "execution_count": 216,
   "metadata": {},
   "outputs": [
    {
     "name": "stdout",
     "output_type": "stream",
     "text": [
      "(12, 225) [[16.04351013 11.1295151   8.52050332 ...  0.04262918  0.03919941\n",
      "   0.03181556]\n",
      " [13.7500315   9.53971147  7.3043054  ...  0.04025629  0.03726406\n",
      "   0.03079739]\n",
      " [11.95733579  8.2977806   6.35480048 ...  0.04174619  0.03906058\n",
      "   0.03321034]\n",
      " ...\n",
      " [24.08446451 16.75754265 12.86583608 ...  0.0698404   0.06421805\n",
      "   0.05211885]\n",
      " [12.18348389  8.48236398  6.51644597 ...  0.04093649  0.03789917\n",
      "   0.0313268 ]\n",
      " [ 8.47387574  5.90299843  4.53740851 ...  0.03508096  0.0328328\n",
      "   0.02792267]]\n"
     ]
    }
   ],
   "source": [
    "# Isotropic with HG thingy\n",
    "\n",
    "ff = 0.03\n",
    "tmp = -1.209 * ff**(2./3)\n",
    "PoreK = np.log1p(tmp) / tmp\n",
    "\n",
    "# perform the change of variables to account for porosity outside of H(u)\n",
    "# and H(u0) equations for simplicity, i.e. H(u) will become H(u/PoreK)\n",
    "# see Hapke 2012b (the book) for details.\n",
    "uK = u / PoreK\n",
    "u0K = u0 / PoreK\n",
    "tHu, tHu0 = Hu_Hu0(scat_eff, uK, u0K)\n",
    "\n",
    "tmp = Pg2 * 1 + tHu*tHu0 - 1\n",
    "numer = PoreK * tmp * scat_eff\n",
    "rc22 = numer / rc_denom\n",
    "print(rc22.shape, rc22)"
   ]
  },
  {
   "cell_type": "code",
   "execution_count": null,
   "metadata": {},
   "outputs": [],
   "source": []
  }
 ],
 "metadata": {
  "kernelspec": {
   "display_name": "Python 3",
   "language": "python",
   "name": "python3"
  },
  "language_info": {
   "codemirror_mode": {
    "name": "ipython",
    "version": 3
   },
   "file_extension": ".py",
   "mimetype": "text/x-python",
   "name": "python",
   "nbconvert_exporter": "python",
   "pygments_lexer": "ipython3",
   "version": "3.6.5"
  }
 },
 "nbformat": 4,
 "nbformat_minor": 2
}
